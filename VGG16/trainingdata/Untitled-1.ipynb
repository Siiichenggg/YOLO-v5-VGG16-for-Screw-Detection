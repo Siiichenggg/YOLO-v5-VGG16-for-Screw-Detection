{
 "cells": [
  {
   "cell_type": "code",
   "execution_count": null,
   "metadata": {},
   "outputs": [
    {
     "ename": "",
     "evalue": "",
     "output_type": "error",
     "traceback": [
      "\u001b[1;31m内核启动失败，因为无法从 \"/Users/lusicheng/Library/Python/3.11/lib/python/site-packages/psutil/_psutil_osx.abi3.so, 0x0002\" 导入 \"/Users/lusicheng/Library/Python/3.11/lib/python/site-packages/psutil/_psutil_osx.abi3.so\"。\n",
      "\u001b[1;31m有关详细信息，请单击 <a href=\"https://aka.ms/kernelFailuresModuleImportErrFromFile\">此处</a>。"
     ]
    }
   ],
   "source": [
    "import cv2\n",
    "import matplotlib.pyplot as plt\n",
    "\n",
    "video =  cv2.VideoCapture('./IMG_2823.MOV')\n",
    "num = 0\n",
    "save_step = 10\n",
    "while True:\n",
    "    ret, frame = video.read()\n",
    "    if not ret:\n",
    "        break\n",
    "    if num % save_step == 0:\n",
    "        cv2.imwrite('frame%d.jpg' % num, frame)\n",
    "    num += 1\n"
   ]
  }
 ],
 "metadata": {
  "kernelspec": {
   "display_name": "Python 3",
   "language": "python",
   "name": "python3"
  },
  "language_info": {
   "name": "python",
   "version": "3.11.6"
  }
 },
 "nbformat": 4,
 "nbformat_minor": 2
}
